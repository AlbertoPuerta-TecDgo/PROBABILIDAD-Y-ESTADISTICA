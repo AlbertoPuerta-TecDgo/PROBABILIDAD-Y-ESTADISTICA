{
  "nbformat": 4,
  "nbformat_minor": 0,
  "metadata": {
    "colab": {
      "provenance": [],
      "authorship_tag": "ABX9TyP8Da22Ah5wIxOnVpuJ4PyJ",
      "include_colab_link": true
    },
    "kernelspec": {
      "name": "python3",
      "display_name": "Python 3"
    },
    "language_info": {
      "name": "python"
    }
  },
  "cells": [
    {
      "cell_type": "markdown",
      "metadata": {
        "id": "view-in-github",
        "colab_type": "text"
      },
      "source": [
        "<a href=\"https://colab.research.google.com/github/AlbertoPuerta-TecDgo/PROBABILIDAD-Y-ESTADISTICA/blob/main/Unidad2/Programas_1%2C_2_y_3.ipynb\" target=\"_parent\"><img src=\"https://colab.research.google.com/assets/colab-badge.svg\" alt=\"Open In Colab\"/></a>"
      ]
    },
    {
      "cell_type": "code",
      "execution_count": null,
      "metadata": {
        "id": "0xZ1NNI794lf"
      },
      "outputs": [],
      "source": []
    },
    {
      "cell_type": "markdown",
      "source": [
        "##INSTITUTO TECNOLÓGICO DE DURANGO\n",
        "#Probabilidad y estadística\n",
        "#Unidad 2\n",
        "#Programas 1,2 y 3.\n",
        "Quezada Puerta Jesús Alberto"
      ],
      "metadata": {
        "id": "QVvMxQsx-E-f"
      }
    },
    {
      "cell_type": "code",
      "source": [
        "import math\n",
        "\n",
        "# Datos\n",
        "n = 10  # Número de asistentes\n",
        "r = 4   # Número de preguntas para calificar\n",
        "\n",
        "# Calcular el número de permutaciones\n",
        "numerador = math.factorial(n)\n",
        "denominador = math.factorial(n - r)\n",
        "permutaciones = numerador / denominador\n",
        "\n",
        "# Mostrar el resultado\n",
        "print(f\"El número de maneras de elegir los asistentes es: {int(permutaciones)}\")"
      ],
      "metadata": {
        "colab": {
          "base_uri": "https://localhost:8080/"
        },
        "id": "RYIJEEZQ-QZm",
        "outputId": "75438ece-1dd6-4e1b-806d-919bab811c22"
      },
      "execution_count": 1,
      "outputs": [
        {
          "output_type": "stream",
          "name": "stdout",
          "text": [
            "El número de maneras de elegir los asistentes es: 5040\n"
          ]
        }
      ]
    }
  ]
}